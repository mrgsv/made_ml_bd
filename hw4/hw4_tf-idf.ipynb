{
 "cells": [
  {
   "cell_type": "code",
   "execution_count": 1,
   "id": "f5c19054",
   "metadata": {},
   "outputs": [
    {
     "data": {
      "text/plain": [
       "\u001b[32mimport \u001b[39m\u001b[36m$ivy.$                                   \n",
       "\u001b[39m\n",
       "\u001b[32mimport \u001b[39m\u001b[36m$ivy.$                               \u001b[39m"
      ]
     },
     "execution_count": 1,
     "metadata": {},
     "output_type": "execute_result"
    }
   ],
   "source": [
    "import $ivy.`org.apache.spark::spark-sql:2.4.5` \n",
    "import $ivy.`sh.almond::almond-spark:0.10.9`"
   ]
  },
  {
   "cell_type": "code",
   "execution_count": 2,
   "id": "4ab65ee8",
   "metadata": {},
   "outputs": [
    {
     "data": {
      "text/plain": [
       "\u001b[32mimport \u001b[39m\u001b[36morg.apache.log4j.{Level, Logger}\n",
       "\u001b[39m"
      ]
     },
     "execution_count": 2,
     "metadata": {},
     "output_type": "execute_result"
    }
   ],
   "source": [
    "import org.apache.log4j.{Level, Logger}\n",
    "Logger.getLogger(\"org\").setLevel(Level.OFF)"
   ]
  },
  {
   "cell_type": "code",
   "execution_count": 3,
   "id": "d9918f9f",
   "metadata": {},
   "outputs": [
    {
     "name": "stdout",
     "output_type": "stream",
     "text": [
      "Loading spark-stubs\n",
      "Getting spark JARs\n",
      "Creating SparkSession\n"
     ]
    },
    {
     "name": "stderr",
     "output_type": "stream",
     "text": [
      "Using Spark's default log4j profile: org/apache/spark/log4j-defaults.properties\n"
     ]
    },
    {
     "data": {
      "text/html": [
       "<a target=\"_blank\" href=\"http://192.168.0.137:4040\">Spark UI</a>"
      ]
     },
     "metadata": {},
     "output_type": "display_data"
    },
    {
     "data": {
      "text/plain": [
       "\u001b[32mimport \u001b[39m\u001b[36mscala.collection.Map\n",
       "\u001b[39m\n",
       "\u001b[32mimport \u001b[39m\u001b[36morg.apache.spark.sql._\n",
       "\u001b[39m\n",
       "\u001b[32mimport \u001b[39m\u001b[36morg.apache.spark.sql.{functions => f}\n",
       "\u001b[39m\n",
       "\u001b[32mimport \u001b[39m\u001b[36morg.apache.spark.sql.expressions.Window\n",
       "\n",
       "\u001b[39m\n",
       "\u001b[36mspark\u001b[39m: \u001b[32mSparkSession\u001b[39m = org.apache.spark.sql.SparkSession@2191f8c3"
      ]
     },
     "execution_count": 3,
     "metadata": {},
     "output_type": "execute_result"
    }
   ],
   "source": [
    "import scala.collection.Map\n",
    "import org.apache.spark.sql._\n",
    "import org.apache.spark.sql.{functions => f}\n",
    "import org.apache.spark.sql.expressions.Window\n",
    "\n",
    "val spark = NotebookSparkSession.builder().master(\"local[*]\").getOrCreate()"
   ]
  },
  {
   "cell_type": "code",
   "execution_count": 4,
   "id": "d06f9c66",
   "metadata": {},
   "outputs": [
    {
     "data": {
      "text/html": [
       "<script>\n",
       "var comm = Jupyter.notebook.kernel.comm_manager.new_comm('cancel-stage-bc3869dd-b190-45bb-80fd-0c1f8d4c095c', {});\n",
       "\n",
       "function cancelStage(stageId) {\n",
       "  console.log('Cancelling stage ' + stageId);\n",
       "  comm.send({ 'stageId': stageId });\n",
       "}\n",
       "</script>\n",
       "          "
      ]
     },
     "metadata": {},
     "output_type": "display_data"
    },
    {
     "data": {
      "text/html": [
       "<div>\n",
       "  <span style=\"float: left;\">csv at cmd3.sc:1</span>\n",
       "</div>\n"
      ]
     },
     "metadata": {},
     "output_type": "display_data"
    },
    {
     "data": {
      "text/html": [
       "<div class=\"progress\">\n",
       "  <div class=\"progress-bar\" role=\"progressbar\" style=\"background-color: blue; width: 100%; word-wrap: normal; white-space: nowrap; text-align: center; color: white\" aria-valuenow=\"100\" aria-valuemin=\"0\" aria-valuemax=\"100\">\n",
       "    1 / 1\n",
       "  </div>\n",
       "  <div class=\"progress-bar\" role=\"progressbar\" style=\"background-color: red; width: 0%\" aria-valuenow=\"0\" aria-valuemin=\"0\" aria-valuemax=\"100\"></div>\n",
       "</div>\n"
      ]
     },
     "metadata": {},
     "output_type": "display_data"
    },
    {
     "data": {
      "text/plain": [
       "\u001b[36mdataFrame\u001b[39m: \u001b[32mDataFrame\u001b[39m = [Review: string, Rating: string]"
      ]
     },
     "execution_count": 4,
     "metadata": {},
     "output_type": "execute_result"
    }
   ],
   "source": [
    "val dataFrame = spark.read.option(\"header\", \"true\").csv(\"data/tripadvisor_hotel_reviews.csv\")"
   ]
  },
  {
   "cell_type": "code",
   "execution_count": 5,
   "id": "b005c136",
   "metadata": {},
   "outputs": [
    {
     "data": {
      "text/html": [
       "<div>\n",
       "  <span style=\"float: left;\">show at cmd4.sc:1</span>\n",
       "</div>\n"
      ]
     },
     "metadata": {},
     "output_type": "display_data"
    },
    {
     "data": {
      "text/html": [
       "<div class=\"progress\">\n",
       "  <div class=\"progress-bar\" role=\"progressbar\" style=\"background-color: blue; width: 100%; word-wrap: normal; white-space: nowrap; text-align: center; color: white\" aria-valuenow=\"100\" aria-valuemin=\"0\" aria-valuemax=\"100\">\n",
       "    1 / 1\n",
       "  </div>\n",
       "  <div class=\"progress-bar\" role=\"progressbar\" style=\"background-color: red; width: 0%\" aria-valuenow=\"0\" aria-valuemin=\"0\" aria-valuemax=\"100\"></div>\n",
       "</div>\n"
      ]
     },
     "metadata": {},
     "output_type": "display_data"
    },
    {
     "name": "stdout",
     "output_type": "stream",
     "text": [
      "+--------------------+------+\n",
      "|              Review|Rating|\n",
      "+--------------------+------+\n",
      "|nice hotel expens...|     4|\n",
      "|ok nothing specia...|     2|\n",
      "|nice rooms not 4*...|     3|\n",
      "|unique, great sta...|     5|\n",
      "|great stay great ...|     5|\n",
      "+--------------------+------+\n",
      "only showing top 5 rows\n",
      "\n"
     ]
    }
   ],
   "source": [
    "dataFrame.show(5)"
   ]
  },
  {
   "cell_type": "code",
   "execution_count": 6,
   "id": "14d689e0",
   "metadata": {},
   "outputs": [
    {
     "data": {
      "text/html": [
       "<div>\n",
       "  <span style=\"float: left;\">count at cmd5.sc:1</span>\n",
       "</div>\n"
      ]
     },
     "metadata": {},
     "output_type": "display_data"
    },
    {
     "data": {
      "text/html": [
       "<div class=\"progress\">\n",
       "  <div class=\"progress-bar\" role=\"progressbar\" style=\"background-color: blue; width: 100%; word-wrap: normal; white-space: nowrap; text-align: center; color: white\" aria-valuenow=\"100\" aria-valuemin=\"0\" aria-valuemax=\"100\">\n",
       "    4 / 4\n",
       "  </div>\n",
       "  <div class=\"progress-bar\" role=\"progressbar\" style=\"background-color: red; width: 0%\" aria-valuenow=\"0\" aria-valuemin=\"0\" aria-valuemax=\"100\"></div>\n",
       "</div>\n"
      ]
     },
     "metadata": {},
     "output_type": "display_data"
    },
    {
     "data": {
      "text/html": [
       "<div>\n",
       "  <span style=\"float: left;\">count at cmd5.sc:1</span>\n",
       "</div>\n"
      ]
     },
     "metadata": {},
     "output_type": "display_data"
    },
    {
     "data": {
      "text/html": [
       "<div class=\"progress\">\n",
       "  <div class=\"progress-bar\" role=\"progressbar\" style=\"background-color: blue; width: 100%; word-wrap: normal; white-space: nowrap; text-align: center; color: white\" aria-valuenow=\"100\" aria-valuemin=\"0\" aria-valuemax=\"100\">\n",
       "    1 / 1\n",
       "  </div>\n",
       "  <div class=\"progress-bar\" role=\"progressbar\" style=\"background-color: red; width: 0%\" aria-valuenow=\"0\" aria-valuemin=\"0\" aria-valuemax=\"100\"></div>\n",
       "</div>\n"
      ]
     },
     "metadata": {},
     "output_type": "display_data"
    },
    {
     "data": {
      "text/plain": [
       "\u001b[36mdocCount\u001b[39m: \u001b[32mLong\u001b[39m = \u001b[32m20491L\u001b[39m"
      ]
     },
     "execution_count": 6,
     "metadata": {},
     "output_type": "execute_result"
    }
   ],
   "source": [
    "val docCount = dataFrame.count()"
   ]
  },
  {
   "cell_type": "code",
   "execution_count": 7,
   "id": "bd044ffd",
   "metadata": {},
   "outputs": [
    {
     "data": {
      "text/plain": [
       "\u001b[36mudfReplaceMultSpaces\u001b[39m: \u001b[32mexpressions\u001b[39m.\u001b[32mUserDefinedFunction\u001b[39m = \u001b[33mUserDefinedFunction\u001b[39m(\n",
       "  ammonite.$sess.cmd6$Helper$$Lambda$4923/771050600@3d7095ce,\n",
       "  StringType,\n",
       "  \u001b[33mSome\u001b[39m(\u001b[33mList\u001b[39m(StringType))\n",
       ")\n",
       "\u001b[36mrowWindow\u001b[39m: \u001b[32mexpressions\u001b[39m.\u001b[32mWindowSpec\u001b[39m = org.apache.spark.sql.expressions.WindowSpec@722521b9\n",
       "\u001b[36mpreprocessedTokens\u001b[39m: \u001b[32mDataset\u001b[39m[\u001b[32mRow\u001b[39m] = [doc_id: int, tokens: array<string>]"
      ]
     },
     "execution_count": 7,
     "metadata": {},
     "output_type": "execute_result"
    }
   ],
   "source": [
    "val udfReplaceMultSpaces = f.udf((s: String) => s.trim.replaceAll(\"\\\\s+\", \" \"))\n",
    "val rowWindow = Window.partitionBy().orderBy(\"tokens\")\n",
    "val preprocessedTokens = \n",
    "    dataFrame.select(\"Review\")\n",
    "             .withColumn(\"Review\", f.regexp_replace(f.col(\"Review\"), \"[^a-z0-9 ]+\", \"\"))\n",
    "             .withColumn(\"Review\", udfReplaceMultSpaces(f.col(\"Review\")))\n",
    "             .withColumn(\"tokens\", f.split(f.col(\"Review\"), \" \"))\n",
    "             .withColumn(\"doc_id\", f.row_number().over(rowWindow))\n",
    "             .select(\"doc_id\", \"tokens\")\n",
    "             .cache()"
   ]
  },
  {
   "cell_type": "code",
   "execution_count": 8,
   "id": "757feb2e",
   "metadata": {},
   "outputs": [
    {
     "data": {
      "text/html": [
       "<div>\n",
       "  <span style=\"float: left;\">show at cmd7.sc:1</span>\n",
       "</div>\n"
      ]
     },
     "metadata": {},
     "output_type": "display_data"
    },
    {
     "data": {
      "text/html": [
       "<div class=\"progress\">\n",
       "  <div class=\"progress-bar\" role=\"progressbar\" style=\"background-color: blue; width: 100%; word-wrap: normal; white-space: nowrap; text-align: center; color: white\" aria-valuenow=\"100\" aria-valuemin=\"0\" aria-valuemax=\"100\">\n",
       "    4 / 4\n",
       "  </div>\n",
       "  <div class=\"progress-bar\" role=\"progressbar\" style=\"background-color: red; width: 0%\" aria-valuenow=\"0\" aria-valuemin=\"0\" aria-valuemax=\"100\"></div>\n",
       "</div>\n"
      ]
     },
     "metadata": {},
     "output_type": "display_data"
    },
    {
     "data": {
      "text/html": [
       "<div>\n",
       "  <span style=\"float: left;\">show at cmd7.sc:1</span>\n",
       "</div>\n"
      ]
     },
     "metadata": {},
     "output_type": "display_data"
    },
    {
     "data": {
      "text/html": [
       "<div class=\"progress\">\n",
       "  <div class=\"progress-bar\" role=\"progressbar\" style=\"background-color: blue; width: 100%; word-wrap: normal; white-space: nowrap; text-align: center; color: white\" aria-valuenow=\"100\" aria-valuemin=\"0\" aria-valuemax=\"100\">\n",
       "    1 / 1\n",
       "  </div>\n",
       "  <div class=\"progress-bar\" role=\"progressbar\" style=\"background-color: red; width: 0%\" aria-valuenow=\"0\" aria-valuemin=\"0\" aria-valuemax=\"100\"></div>\n",
       "</div>\n"
      ]
     },
     "metadata": {},
     "output_type": "display_data"
    },
    {
     "name": "stdout",
     "output_type": "stream",
     "text": [
      "+------+--------------------+\n",
      "|doc_id|              tokens|\n",
      "+------+--------------------+\n",
      "|     1|[1, best, hotels,...|\n",
      "|     2|[1, best, small, ...|\n",
      "|     3|[1, choice, flore...|\n",
      "|     4|[1, day, short, s...|\n",
      "|     5|[1, spot, locatio...|\n",
      "|     6|[1, star, best, l...|\n",
      "|     7|[1, star, paid, 1...|\n",
      "|     8|[1, star, resort,...|\n",
      "|     9|[1, week, fantast...|\n",
      "|    10|[1, word, wow, de...|\n",
      "|    11|[1, year, wedding...|\n",
      "|    12|[10, points, 10, ...|\n",
      "|    13|[100, dollars, ni...|\n",
      "|    14|[100, happy, sad,...|\n",
      "|    15|[100, location, f...|\n",
      "|    16|[100, perfect, hu...|\n",
      "|    17|[100, star, ratin...|\n",
      "|    18|[100, stays, 18, ...|\n",
      "|    19|[1010, bahia, eff...|\n",
      "|    20|[1010, impressed,...|\n",
      "+------+--------------------+\n",
      "only showing top 20 rows\n",
      "\n"
     ]
    }
   ],
   "source": [
    "preprocessedTokens.show()"
   ]
  },
  {
   "cell_type": "code",
   "execution_count": 9,
   "id": "9fa1209d",
   "metadata": {},
   "outputs": [
    {
     "data": {
      "text/plain": [
       "\u001b[36mallDocs\u001b[39m: \u001b[32mArray\u001b[39m[\u001b[32mInt\u001b[39m] = \u001b[33mArray\u001b[39m(\n",
       "  \u001b[32m1\u001b[39m,\n",
       "  \u001b[32m2\u001b[39m,\n",
       "  \u001b[32m3\u001b[39m,\n",
       "  \u001b[32m4\u001b[39m,\n",
       "  \u001b[32m5\u001b[39m,\n",
       "  \u001b[32m6\u001b[39m,\n",
       "  \u001b[32m7\u001b[39m,\n",
       "  \u001b[32m8\u001b[39m,\n",
       "  \u001b[32m9\u001b[39m,\n",
       "  \u001b[32m10\u001b[39m,\n",
       "  \u001b[32m11\u001b[39m,\n",
       "  \u001b[32m12\u001b[39m,\n",
       "  \u001b[32m13\u001b[39m,\n",
       "  \u001b[32m14\u001b[39m,\n",
       "  \u001b[32m15\u001b[39m,\n",
       "  \u001b[32m16\u001b[39m,\n",
       "  \u001b[32m17\u001b[39m,\n",
       "  \u001b[32m18\u001b[39m,\n",
       "  \u001b[32m19\u001b[39m,\n",
       "  \u001b[32m20\u001b[39m,\n",
       "  \u001b[32m21\u001b[39m,\n",
       "  \u001b[32m22\u001b[39m,\n",
       "  \u001b[32m23\u001b[39m,\n",
       "  \u001b[32m24\u001b[39m,\n",
       "  \u001b[32m25\u001b[39m,\n",
       "  \u001b[32m26\u001b[39m,\n",
       "  \u001b[32m27\u001b[39m,\n",
       "  \u001b[32m28\u001b[39m,\n",
       "  \u001b[32m29\u001b[39m,\n",
       "  \u001b[32m30\u001b[39m,\n",
       "  \u001b[32m31\u001b[39m,\n",
       "  \u001b[32m32\u001b[39m,\n",
       "  \u001b[32m33\u001b[39m,\n",
       "  \u001b[32m34\u001b[39m,\n",
       "  \u001b[32m35\u001b[39m,\n",
       "  \u001b[32m36\u001b[39m,\n",
       "  \u001b[32m37\u001b[39m,\n",
       "  \u001b[32m38\u001b[39m,\n",
       "..."
      ]
     },
     "execution_count": 9,
     "metadata": {},
     "output_type": "execute_result"
    }
   ],
   "source": [
    "val allDocs = (for {i <- 1 until docCount.toInt} yield i).toArray"
   ]
  },
  {
   "cell_type": "code",
   "execution_count": 10,
   "id": "62a89b2d",
   "metadata": {},
   "outputs": [
    {
     "data": {
      "text/plain": [
       "\u001b[36mtokenCntByDocId\u001b[39m: \u001b[32mDataFrame\u001b[39m = [doc_id: int, token_cnt: bigint]"
      ]
     },
     "execution_count": 10,
     "metadata": {},
     "output_type": "execute_result"
    }
   ],
   "source": [
    "val tokenCntByDocId = \n",
    "    preprocessedTokens\n",
    "        .withColumn(\"tokens\", f.explode(f.col(\"tokens\")))\n",
    "        .select(\"doc_id\", \"tokens\").groupBy(\"doc_id\").agg(f.count(f.col(\"tokens\")).alias(\"token_cnt\"))"
   ]
  },
  {
   "cell_type": "code",
   "execution_count": 11,
   "id": "fa39ce68",
   "metadata": {},
   "outputs": [
    {
     "data": {
      "text/plain": [
       "\u001b[36mtermFrequency\u001b[39m: \u001b[32mDataFrame\u001b[39m = [doc_id: int, tokens: string ... 1 more field]"
      ]
     },
     "execution_count": 11,
     "metadata": {},
     "output_type": "execute_result"
    }
   ],
   "source": [
    "val termFrequency = \n",
    "    preprocessedTokens\n",
    "        .withColumn(\"tokens\", f.explode(f.col(\"tokens\")))\n",
    "        .select(\"doc_id\", \"tokens\")\n",
    "        .groupBy(\"doc_id\", \"tokens\").agg(f.count(\"*\").alias(\"cnt\"))\n",
    "        .join(tokenCntByDocId, \"doc_id\")\n",
    "        .withColumn(\"tf\", f.col(\"cnt\") / f.col(\"token_cnt\"))\n",
    "        .select(\"doc_id\", \"tokens\", \"tf\")"
   ]
  },
  {
   "cell_type": "markdown",
   "id": "dff608d7",
   "metadata": {},
   "source": [
    "## Using sklearn-like IDF formula"
   ]
  },
  {
   "cell_type": "code",
   "execution_count": 12,
   "id": "333b5609",
   "metadata": {},
   "outputs": [
    {
     "data": {
      "text/plain": [
       "\u001b[36minverseDocumentFrequency\u001b[39m: \u001b[32mDataFrame\u001b[39m = [tokens: string, idf: double]"
      ]
     },
     "execution_count": 12,
     "metadata": {},
     "output_type": "execute_result"
    }
   ],
   "source": [
    "val inverseDocumentFrequency = \n",
    "    preprocessedTokens.withColumn(\"tokens\", f.explode(f.col(\"tokens\")))\n",
    "                      .select(\"doc_id\", \"tokens\").groupBy(\"tokens\")\n",
    "                      .agg(f.count(\"doc_id\").cast(\"long\").alias(\"cnt\"))\n",
    "                      .withColumn(\"doc_cnt\", f.lit(docCount))\n",
    "                      .withColumn(\"idf\", f.log((f.col(\"doc_cnt\") + 1) / (f.col(\"cnt\") + 1)) + 1)\n",
    "                      .select(\"tokens\", \"idf\")"
   ]
  },
  {
   "cell_type": "code",
   "execution_count": 13,
   "id": "1d51d73d",
   "metadata": {},
   "outputs": [
    {
     "data": {
      "text/plain": [
       "\u001b[36mtop100InverseDocumentFrequency\u001b[39m: \u001b[32mDataset\u001b[39m[\u001b[32mRow\u001b[39m] = [tokens: string, idf: double]"
      ]
     },
     "execution_count": 13,
     "metadata": {},
     "output_type": "execute_result"
    }
   ],
   "source": [
    "val top100InverseDocumentFrequency = inverseDocumentFrequency.sort(f.col(\"idf\").desc).limit(100)"
   ]
  },
  {
   "cell_type": "code",
   "execution_count": 14,
   "id": "c0dbb988",
   "metadata": {},
   "outputs": [
    {
     "data": {
      "text/html": [
       "<div>\n",
       "  <span style=\"float: left;\">show at cmd13.sc:1</span>\n",
       "</div>\n"
      ]
     },
     "metadata": {},
     "output_type": "display_data"
    },
    {
     "data": {
      "text/html": [
       "<div class=\"progress\">\n",
       "  <div class=\"progress-bar\" role=\"progressbar\" style=\"background-color: blue; width: 100%; word-wrap: normal; white-space: nowrap; text-align: center; color: white\" aria-valuenow=\"100\" aria-valuemin=\"0\" aria-valuemax=\"100\">\n",
       "    1 / 1\n",
       "  </div>\n",
       "  <div class=\"progress-bar\" role=\"progressbar\" style=\"background-color: red; width: 0%\" aria-valuenow=\"0\" aria-valuemin=\"0\" aria-valuemax=\"100\"></div>\n",
       "</div>\n"
      ]
     },
     "metadata": {},
     "output_type": "display_data"
    },
    {
     "data": {
      "text/html": [
       "<div>\n",
       "  <span style=\"float: left;\">show at cmd13.sc:1</span>\n",
       "</div>\n"
      ]
     },
     "metadata": {},
     "output_type": "display_data"
    },
    {
     "data": {
      "text/html": [
       "<div class=\"progress\">\n",
       "  <div class=\"progress-bar\" role=\"progressbar\" style=\"background-color: blue; width: 100%; word-wrap: normal; white-space: nowrap; text-align: center; color: white\" aria-valuenow=\"100\" aria-valuemin=\"0\" aria-valuemax=\"100\">\n",
       "    1 / 1\n",
       "  </div>\n",
       "  <div class=\"progress-bar\" role=\"progressbar\" style=\"background-color: red; width: 0%\" aria-valuenow=\"0\" aria-valuemin=\"0\" aria-valuemax=\"100\"></div>\n",
       "</div>\n"
      ]
     },
     "metadata": {},
     "output_type": "display_data"
    },
    {
     "name": "stdout",
     "output_type": "stream",
     "text": [
      "+--------------+------------------+\n",
      "|        tokens|               idf|\n",
      "+--------------+------------------+\n",
      "|    strategies|10.234642664499148|\n",
      "|      catamera|10.234642664499148|\n",
      "|       leaflet|10.234642664499148|\n",
      "|wonderfulthank|10.234642664499148|\n",
      "|         lippi|10.234642664499148|\n",
      "|        faired|10.234642664499148|\n",
      "|           45e|10.234642664499148|\n",
      "|       baggles|10.234642664499148|\n",
      "|  realtionship|10.234642664499148|\n",
      "|        camery|10.234642664499148|\n",
      "|         purmy|10.234642664499148|\n",
      "|         tipso|10.234642664499148|\n",
      "|         calss|10.234642664499148|\n",
      "|         16400|10.234642664499148|\n",
      "|         thand|10.234642664499148|\n",
      "|      grandmas|10.234642664499148|\n",
      "|    adequateas|10.234642664499148|\n",
      "|   julyarrived|10.234642664499148|\n",
      "|           178|10.234642664499148|\n",
      "|   deskarrived|10.234642664499148|\n",
      "+--------------+------------------+\n",
      "only showing top 20 rows\n",
      "\n"
     ]
    }
   ],
   "source": [
    "top100InverseDocumentFrequency.show()"
   ]
  },
  {
   "cell_type": "code",
   "execution_count": 15,
   "id": "3785b2c6",
   "metadata": {},
   "outputs": [
    {
     "data": {
      "text/plain": [
       "\u001b[36mtfIdf\u001b[39m: \u001b[32mDataFrame\u001b[39m = [doc_id: int, token: string ... 1 more field]"
      ]
     },
     "execution_count": 15,
     "metadata": {},
     "output_type": "execute_result"
    }
   ],
   "source": [
    "val tfIdf = \n",
    "    top100InverseDocumentFrequency.join(termFrequency, \"tokens\")\n",
    "                                  .withColumn(\"tf-idf\", f.col(\"tf\") * f.col(\"idf\"))\n",
    "                                  .select(f.col(\"doc_id\"), f.col(\"tokens\").alias(\"token\"), f.col(\"tf-idf\"))"
   ]
  },
  {
   "cell_type": "code",
   "execution_count": 16,
   "id": "89e9cf29",
   "metadata": {},
   "outputs": [
    {
     "data": {
      "text/html": [
       "<div>\n",
       "  <span style=\"float: left;\">run at ThreadPoolExecutor.java:1149</span>\n",
       "</div>\n"
      ]
     },
     "metadata": {},
     "output_type": "display_data"
    },
    {
     "data": {
      "text/html": [
       "<div class=\"progress\">\n",
       "  <div class=\"progress-bar\" role=\"progressbar\" style=\"background-color: blue; width: 100%; word-wrap: normal; white-space: nowrap; text-align: center; color: white\" aria-valuenow=\"100\" aria-valuemin=\"0\" aria-valuemax=\"100\">\n",
       "    1 / 1\n",
       "  </div>\n",
       "  <div class=\"progress-bar\" role=\"progressbar\" style=\"background-color: red; width: 0%\" aria-valuenow=\"0\" aria-valuemin=\"0\" aria-valuemax=\"100\"></div>\n",
       "</div>\n"
      ]
     },
     "metadata": {},
     "output_type": "display_data"
    },
    {
     "data": {
      "text/html": [
       "<div>\n",
       "  <span style=\"float: left;\">run at ThreadPoolExecutor.java:1149</span>\n",
       "</div>\n"
      ]
     },
     "metadata": {},
     "output_type": "display_data"
    },
    {
     "data": {
      "text/html": [
       "<div class=\"progress\">\n",
       "  <div class=\"progress-bar\" role=\"progressbar\" style=\"background-color: blue; width: 100%; word-wrap: normal; white-space: nowrap; text-align: center; color: white\" aria-valuenow=\"100\" aria-valuemin=\"0\" aria-valuemax=\"100\">\n",
       "    1 / 1\n",
       "  </div>\n",
       "  <div class=\"progress-bar\" role=\"progressbar\" style=\"background-color: red; width: 0%\" aria-valuenow=\"0\" aria-valuemin=\"0\" aria-valuemax=\"100\"></div>\n",
       "</div>\n"
      ]
     },
     "metadata": {},
     "output_type": "display_data"
    },
    {
     "data": {
      "text/html": [
       "<div>\n",
       "  <span style=\"float: left;\">show at cmd15.sc:1</span>\n",
       "</div>\n"
      ]
     },
     "metadata": {},
     "output_type": "display_data"
    },
    {
     "data": {
      "text/html": [
       "<div class=\"progress\">\n",
       "  <div class=\"progress-bar\" role=\"progressbar\" style=\"background-color: blue; width: 100%; word-wrap: normal; white-space: nowrap; text-align: center; color: white\" aria-valuenow=\"100\" aria-valuemin=\"0\" aria-valuemax=\"100\">\n",
       "    1 / 1\n",
       "  </div>\n",
       "  <div class=\"progress-bar\" role=\"progressbar\" style=\"background-color: red; width: 0%\" aria-valuenow=\"0\" aria-valuemin=\"0\" aria-valuemax=\"100\"></div>\n",
       "</div>\n"
      ]
     },
     "metadata": {},
     "output_type": "display_data"
    },
    {
     "name": "stdout",
     "output_type": "stream",
     "text": [
      "+------+---------------+--------------------+\n",
      "|doc_id|          token|              tf-idf|\n",
      "+------+---------------+--------------------+\n",
      "|     1|         1010my|   0.136461902193322|\n",
      "|     1| wonderfulthank|   0.136461902193322|\n",
      "|     5|          20800| 0.09841002562018412|\n",
      "|     5|         acsses| 0.09841002562018412|\n",
      "|     5|        baggles| 0.09841002562018412|\n",
      "|     5|         camery| 0.09841002562018412|\n",
      "|     7|       datednot| 0.17057737774165246|\n",
      "|     7|          tipso| 0.17057737774165246|\n",
      "|     7|            161| 0.17057737774165246|\n",
      "|     7|          16400| 0.17057737774165246|\n",
      "|     7|    sleepingnot| 0.17057737774165246|\n",
      "|     8|         faired| 0.10133309568811037|\n",
      "|     8|       grandmas| 0.10133309568811037|\n",
      "|     9|    julyarrived|0.026108782307395783|\n",
      "|     9|        soltour|0.026108782307395783|\n",
      "|     9|    deskarrived|0.026108782307395783|\n",
      "|     9|serviceactually|0.026108782307395783|\n",
      "|     9|         usuall|0.026108782307395783|\n",
      "|     9|      altlantic|0.026108782307395783|\n",
      "|     9|      pinneaple|0.026108782307395783|\n",
      "+------+---------------+--------------------+\n",
      "only showing top 20 rows\n",
      "\n"
     ]
    }
   ],
   "source": [
    "tfIdf.show()"
   ]
  },
  {
   "cell_type": "code",
   "execution_count": 17,
   "id": "761f8c80",
   "metadata": {},
   "outputs": [
    {
     "data": {
      "text/html": [
       "<div>\n",
       "  <span style=\"float: left;\">run at ThreadPoolExecutor.java:1149</span>\n",
       "</div>\n"
      ]
     },
     "metadata": {},
     "output_type": "display_data"
    },
    {
     "data": {
      "text/html": [
       "<div class=\"progress\">\n",
       "  <div class=\"progress-bar\" role=\"progressbar\" style=\"background-color: blue; width: 100%; word-wrap: normal; white-space: nowrap; text-align: center; color: white\" aria-valuenow=\"100\" aria-valuemin=\"0\" aria-valuemax=\"100\">\n",
       "    1 / 1\n",
       "  </div>\n",
       "  <div class=\"progress-bar\" role=\"progressbar\" style=\"background-color: red; width: 0%\" aria-valuenow=\"0\" aria-valuemin=\"0\" aria-valuemax=\"100\"></div>\n",
       "</div>\n"
      ]
     },
     "metadata": {},
     "output_type": "display_data"
    },
    {
     "data": {
      "text/html": [
       "<div>\n",
       "  <span style=\"float: left;\">run at ThreadPoolExecutor.java:1149</span>\n",
       "</div>\n"
      ]
     },
     "metadata": {},
     "output_type": "display_data"
    },
    {
     "data": {
      "text/html": [
       "<div class=\"progress\">\n",
       "  <div class=\"progress-bar\" role=\"progressbar\" style=\"background-color: blue; width: 100%; word-wrap: normal; white-space: nowrap; text-align: center; color: white\" aria-valuenow=\"100\" aria-valuemin=\"0\" aria-valuemax=\"100\">\n",
       "    1 / 1\n",
       "  </div>\n",
       "  <div class=\"progress-bar\" role=\"progressbar\" style=\"background-color: red; width: 0%\" aria-valuenow=\"0\" aria-valuemin=\"0\" aria-valuemax=\"100\"></div>\n",
       "</div>\n"
      ]
     },
     "metadata": {},
     "output_type": "display_data"
    },
    {
     "data": {
      "text/html": [
       "<div>\n",
       "  <span style=\"float: left;\">pivot at cmd16.sc:1</span>\n",
       "</div>\n"
      ]
     },
     "metadata": {},
     "output_type": "display_data"
    },
    {
     "data": {
      "text/html": [
       "<div class=\"progress\">\n",
       "  <div class=\"progress-bar\" role=\"progressbar\" style=\"background-color: blue; width: 100%; word-wrap: normal; white-space: nowrap; text-align: center; color: white\" aria-valuenow=\"100\" aria-valuemin=\"0\" aria-valuemax=\"100\">\n",
       "    1 / 1\n",
       "  </div>\n",
       "  <div class=\"progress-bar\" role=\"progressbar\" style=\"background-color: red; width: 0%\" aria-valuenow=\"0\" aria-valuemin=\"0\" aria-valuemax=\"100\"></div>\n",
       "</div>\n"
      ]
     },
     "metadata": {},
     "output_type": "display_data"
    },
    {
     "data": {
      "text/plain": [
       "\u001b[36mpivotedTfIdf\u001b[39m: \u001b[32mDataFrame\u001b[39m = [doc_id: int, 1010my: double ... 99 more fields]"
      ]
     },
     "execution_count": 17,
     "metadata": {},
     "output_type": "execute_result"
    }
   ],
   "source": [
    "val pivotedTfIdf = tfIdf.groupBy(\"doc_id\").pivot(\"token\").agg(f.sum(\"tf-idf\")).na.fill(0)"
   ]
  },
  {
   "cell_type": "code",
   "execution_count": 18,
   "id": "128f056d",
   "metadata": {},
   "outputs": [
    {
     "data": {
      "text/html": [
       "<div>\n",
       "  <span style=\"float: left;\">run at ThreadPoolExecutor.java:1149</span>\n",
       "</div>\n"
      ]
     },
     "metadata": {},
     "output_type": "display_data"
    },
    {
     "data": {
      "text/html": [
       "<div class=\"progress\">\n",
       "  <div class=\"progress-bar\" role=\"progressbar\" style=\"background-color: blue; width: 100%; word-wrap: normal; white-space: nowrap; text-align: center; color: white\" aria-valuenow=\"100\" aria-valuemin=\"0\" aria-valuemax=\"100\">\n",
       "    1 / 1\n",
       "  </div>\n",
       "  <div class=\"progress-bar\" role=\"progressbar\" style=\"background-color: red; width: 0%\" aria-valuenow=\"0\" aria-valuemin=\"0\" aria-valuemax=\"100\"></div>\n",
       "</div>\n"
      ]
     },
     "metadata": {},
     "output_type": "display_data"
    },
    {
     "data": {
      "text/html": [
       "<div>\n",
       "  <span style=\"float: left;\">run at ThreadPoolExecutor.java:1149</span>\n",
       "</div>\n"
      ]
     },
     "metadata": {},
     "output_type": "display_data"
    },
    {
     "data": {
      "text/html": [
       "<div class=\"progress\">\n",
       "  <div class=\"progress-bar\" role=\"progressbar\" style=\"background-color: blue; width: 100%; word-wrap: normal; white-space: nowrap; text-align: center; color: white\" aria-valuenow=\"100\" aria-valuemin=\"0\" aria-valuemax=\"100\">\n",
       "    1 / 1\n",
       "  </div>\n",
       "  <div class=\"progress-bar\" role=\"progressbar\" style=\"background-color: red; width: 0%\" aria-valuenow=\"0\" aria-valuemin=\"0\" aria-valuemax=\"100\"></div>\n",
       "</div>\n"
      ]
     },
     "metadata": {},
     "output_type": "display_data"
    },
    {
     "data": {
      "text/html": [
       "<div>\n",
       "  <span style=\"float: left;\">show at cmd17.sc:1</span>\n",
       "</div>\n"
      ]
     },
     "metadata": {},
     "output_type": "display_data"
    },
    {
     "data": {
      "text/html": [
       "<div class=\"progress\">\n",
       "  <div class=\"progress-bar\" role=\"progressbar\" style=\"background-color: blue; width: 100%; word-wrap: normal; white-space: nowrap; text-align: center; color: white\" aria-valuenow=\"100\" aria-valuemin=\"0\" aria-valuemax=\"100\">\n",
       "    1 / 1\n",
       "  </div>\n",
       "  <div class=\"progress-bar\" role=\"progressbar\" style=\"background-color: red; width: 0%\" aria-valuenow=\"0\" aria-valuemin=\"0\" aria-valuemax=\"100\"></div>\n",
       "</div>\n"
      ]
     },
     "metadata": {},
     "output_type": "display_data"
    },
    {
     "name": "stdout",
     "output_type": "stream",
     "text": [
      "+------+-----------------+-------------------+-------+--------------------+-------------------+-------------------+-------------------+-------------------+-------------------+--------------------+-----+-------------------+--------------------+-------------------+--------------------+-------------------+-------------------+-------------------+-------------------+---------+--------------------+-------------------+-------------------+-------------------+--------------------+--------+-------------------+-------------------+--------------------+--------------------+-------------------+--------------------+--------------------+----------------+-------------------+--------------------+--------------------+-------------------+-------------------+--------------------+-------------------+-------------------+------+-------------------+---------+-------------------+-------------------+--------------------+----------+--------------------+--------+--------------------+--------------------+--------------------+-------------------+--------------------+--------------------+-------------------+--------+-----------+--------------------+--------------------+-----------+-----+--------------------+-------------------+-------------------+-------------+--------------------+--------------------+-------------------+-------------------+--------------------+--------------------+-------+--------------+-------------------+-------------------+--------------------+--------------------+--------------------+-------------------+-------------------+------+-------------------+-------------+----+-------------------+-------------------+------------------+----------+-------------------+--------------------+--------------------+--------------------+--------+-------------------+-----------------+--------------------+-------------------+\n",
      "|doc_id|           1010my|               1201|1212005|           1230100am|                161|              16400|                178|              20800|            24hrs24|                 45e|650pm|             acsses|      activityminded|         adequateas|           altlantic|      augustgeneral|         backintime|            baggles|       bathroomwhat|beercolas|                boad|              calss|             camery|        cancunstaff|            capricio|catamera|              chirp|      chocolatechip|         chorography| comfortableremember|           datednot|         deskarrived|          dessertswe|disappointedpros|          dropsroom|             eaterel|          embrassing|             faired|           fifteens|          foodgarden|      frioendliness|             garter|getcha|           grandmas|greatdone|             jaguar|          jimabaran|         julyarrived|laterwatch|             leaflet|leavingi|               lippi|              luckif|           marnarium|                mci|              meatwe|            mindsets|    musicconclusion|olimpica|overdressed|           pinneaple|     precautionarywe|promisedthe|purmy|             rainned|            rateten|       realtionship|repellantsand| resortentertainment|             romerys|          seassince|    serviceableplus|     serviceactually|             shivers|shopthe|showerbreakast|        sleepingnot|      snackscanapes|             soltour|              sorano|          strategies|            style80|           surpirse|swifts|              thand|thanksservice|thie|           timevery|              tipso|            todate|tookpicked|         triendiest|           upcleaned|              usuall|            weeksome|wificons|    wonderfulduplex|   wonderfulthank|             xiomara|   youentertainment|\n",
      "+------+-----------------+-------------------+-------+--------------------+-------------------+-------------------+-------------------+-------------------+-------------------+--------------------+-----+-------------------+--------------------+-------------------+--------------------+-------------------+-------------------+-------------------+-------------------+---------+--------------------+-------------------+-------------------+-------------------+--------------------+--------+-------------------+-------------------+--------------------+--------------------+-------------------+--------------------+--------------------+----------------+-------------------+--------------------+--------------------+-------------------+-------------------+--------------------+-------------------+-------------------+------+-------------------+---------+-------------------+-------------------+--------------------+----------+--------------------+--------+--------------------+--------------------+--------------------+-------------------+--------------------+--------------------+-------------------+--------+-----------+--------------------+--------------------+-----------+-----+--------------------+-------------------+-------------------+-------------+--------------------+--------------------+-------------------+-------------------+--------------------+--------------------+-------+--------------+-------------------+-------------------+--------------------+--------------------+--------------------+-------------------+-------------------+------+-------------------+-------------+----+-------------------+-------------------+------------------+----------+-------------------+--------------------+--------------------+--------------------+--------+-------------------+-----------------+--------------------+-------------------+\n",
      "|     1|0.136461902193322|                0.0|    0.0|                 0.0|                0.0|                0.0|                0.0|                0.0|                0.0|                 0.0|  0.0|                0.0|                 0.0|                0.0|                 0.0|                0.0|                0.0|                0.0|                0.0|      0.0|                 0.0|                0.0|                0.0|                0.0|                 0.0|     0.0|                0.0|                0.0|                 0.0|                 0.0|                0.0|                 0.0|                 0.0|             0.0|                0.0|                 0.0|                 0.0|                0.0|                0.0|                 0.0|                0.0|                0.0|   0.0|                0.0|      0.0|                0.0|                0.0|                 0.0|       0.0|                 0.0|     0.0|                 0.0|                 0.0|                 0.0|                0.0|                 0.0|                 0.0|                0.0|     0.0|        0.0|                 0.0|                 0.0|        0.0|  0.0|                 0.0|                0.0|                0.0|          0.0|                 0.0|                 0.0|                0.0|                0.0|                 0.0|                 0.0|    0.0|           0.0|                0.0|                0.0|                 0.0|                 0.0|                 0.0|                0.0|                0.0|   0.0|                0.0|          0.0| 0.0|                0.0|                0.0|               0.0|       0.0|                0.0|                 0.0|                 0.0|                 0.0|     0.0|                0.0|0.136461902193322|                 0.0|                0.0|\n",
      "|     5|              0.0|                0.0|    0.0|                 0.0|                0.0|                0.0|                0.0|0.09841002562018412|                0.0|                 0.0|  0.0|0.09841002562018412|                 0.0|                0.0|                 0.0|                0.0|                0.0|0.09841002562018412|                0.0|      0.0|                 0.0|                0.0|0.09841002562018412|                0.0|                 0.0|     0.0|                0.0|                0.0|                 0.0|                 0.0|                0.0|                 0.0|                 0.0|             0.0|                0.0|                 0.0|                 0.0|                0.0|                0.0|                 0.0|                0.0|                0.0|   0.0|                0.0|      0.0|                0.0|                0.0|                 0.0|       0.0|                 0.0|     0.0|                 0.0|                 0.0|                 0.0|                0.0|                 0.0|                 0.0|                0.0|     0.0|        0.0|                 0.0|                 0.0|        0.0|  0.0|                 0.0|                0.0|                0.0|          0.0|                 0.0|                 0.0|                0.0|                0.0|                 0.0|                 0.0|    0.0|           0.0|                0.0|                0.0|                 0.0|                 0.0|                 0.0|                0.0|                0.0|   0.0|                0.0|          0.0| 0.0|                0.0|                0.0|               0.0|       0.0|                0.0|                 0.0|                 0.0|                 0.0|     0.0|                0.0|              0.0|                 0.0|                0.0|\n"
     ]
    },
    {
     "name": "stdout",
     "output_type": "stream",
     "text": [
      "|     7|              0.0|                0.0|    0.0|                 0.0|0.17057737774165246|0.17057737774165246|                0.0|                0.0|                0.0|                 0.0|  0.0|                0.0|                 0.0|                0.0|                 0.0|                0.0|                0.0|                0.0|                0.0|      0.0|                 0.0|                0.0|                0.0|                0.0|                 0.0|     0.0|                0.0|                0.0|                 0.0|                 0.0|0.17057737774165246|                 0.0|                 0.0|             0.0|                0.0|                 0.0|                 0.0|                0.0|                0.0|                 0.0|                0.0|                0.0|   0.0|                0.0|      0.0|                0.0|                0.0|                 0.0|       0.0|                 0.0|     0.0|                 0.0|                 0.0|                 0.0|                0.0|                 0.0|                 0.0|                0.0|     0.0|        0.0|                 0.0|                 0.0|        0.0|  0.0|                 0.0|                0.0|                0.0|          0.0|                 0.0|                 0.0|                0.0|                0.0|                 0.0|                 0.0|    0.0|           0.0|0.17057737774165246|                0.0|                 0.0|                 0.0|                 0.0|                0.0|                0.0|   0.0|                0.0|          0.0| 0.0|                0.0|0.17057737774165246|               0.0|       0.0|                0.0|                 0.0|                 0.0|                 0.0|     0.0|                0.0|              0.0|                 0.0|                0.0|\n",
      "|     8|              0.0|                0.0|    0.0|                 0.0|                0.0|                0.0|                0.0|                0.0|                0.0|                 0.0|  0.0|                0.0|                 0.0|                0.0|                 0.0|                0.0|                0.0|                0.0|                0.0|      0.0|                 0.0|                0.0|                0.0|                0.0|                 0.0|     0.0|                0.0|                0.0|                 0.0|                 0.0|                0.0|                 0.0|                 0.0|             0.0|                0.0|                 0.0|                 0.0|0.10133309568811037|                0.0|                 0.0|                0.0|                0.0|   0.0|0.10133309568811037|      0.0|                0.0|                0.0|                 0.0|       0.0|                 0.0|     0.0|                 0.0|                 0.0|                 0.0|                0.0|                 0.0|                 0.0|                0.0|     0.0|        0.0|                 0.0|                 0.0|        0.0|  0.0|                 0.0|                0.0|                0.0|          0.0|                 0.0|                 0.0|                0.0|                0.0|                 0.0|                 0.0|    0.0|           0.0|                0.0|                0.0|                 0.0|                 0.0|                 0.0|                0.0|                0.0|   0.0|                0.0|          0.0| 0.0|                0.0|                0.0|               0.0|       0.0|                0.0|                 0.0|                 0.0|                 0.0|     0.0|                0.0|              0.0|                 0.0|                0.0|\n",
      "|     9|              0.0|                0.0|    0.0|                 0.0|                0.0|                0.0|                0.0|                0.0|                0.0|                 0.0|  0.0|                0.0|                 0.0|                0.0|0.026108782307395783|                0.0|                0.0|                0.0|                0.0|      0.0|0.026108782307395783|                0.0|                0.0|                0.0|0.026108782307395783|     0.0|                0.0|                0.0|                 0.0|                 0.0|                0.0|0.026108782307395783|0.026108782307395783|             0.0|                0.0|0.026108782307395783|                 0.0|                0.0|                0.0|0.026108782307395783|                0.0|                0.0|   0.0|                0.0|      0.0|                0.0|                0.0|0.026108782307395783|       0.0|                 0.0|     0.0|                 0.0|0.026108782307395783|                 0.0|                0.0|0.026108782307395783|                 0.0|                0.0|     0.0|        0.0|0.026108782307395783|                 0.0|        0.0|  0.0|0.026108782307395783|                0.0|                0.0|          0.0|                 0.0|                 0.0|                0.0|                0.0|0.026108782307395783|                 0.0|    0.0|           0.0|                0.0|                0.0|0.026108782307395783|                 0.0|                 0.0|                0.0|                0.0|   0.0|                0.0|          0.0| 0.0|                0.0|                0.0|               0.0|       0.0|                0.0|                 0.0|0.026108782307395783|0.026108782307395783|     0.0|                0.0|              0.0|                 0.0|                0.0|\n",
      "|    10|              0.0|                0.0|    0.0|                 0.0|                0.0|                0.0|                0.0|                0.0|                0.0|                 0.0|  0.0|                0.0|                 0.0|                0.0|                 0.0|                0.0|                0.0|                0.0|                0.0|      0.0|                 0.0|                0.0|                0.0|                0.0|                 0.0|     0.0|                0.0|                0.0|                 0.0|                 0.0|                0.0|                 0.0|                 0.0|             0.0|                0.0|                 0.0|                 0.0|                0.0|0.35291871256893614|                 0.0|                0.0|                0.0|   0.0|                0.0|      0.0|                0.0|                0.0|                 0.0|       0.0|                 0.0|     0.0|                 0.0|                 0.0|                 0.0|                0.0|                 0.0|                 0.0|                0.0|     0.0|        0.0|                 0.0|                 0.0|        0.0|  0.0|                 0.0|                0.0|                0.0|          0.0|                 0.0|                 0.0|                0.0|                0.0|                 0.0|                 0.0|    0.0|           0.0|                0.0|                0.0|                 0.0|                 0.0|                 0.0|                0.0|                0.0|   0.0|                0.0|          0.0| 0.0|                0.0|                0.0|               0.0|       0.0|                0.0|                 0.0|                 0.0|                 0.0|     0.0|                0.0|              0.0|                 0.0|                0.0|\n"
     ]
    },
    {
     "name": "stdout",
     "output_type": "stream",
     "text": [
      "|    11|              0.0|                0.0|    0.0|0.054730709435824317|                0.0|                0.0|                0.0|                0.0|                0.0|                 0.0|  0.0|                0.0|                 0.0|                0.0|                 0.0|                0.0|                0.0|                0.0|                0.0|      0.0|                 0.0|                0.0|                0.0|                0.0|                 0.0|     0.0|                0.0|                0.0|                 0.0|                 0.0|                0.0|                 0.0|                 0.0|             0.0|                0.0|                 0.0|                 0.0|                0.0|                0.0|                 0.0|                0.0|                0.0|   0.0|                0.0|      0.0|                0.0|                0.0|                 0.0|       0.0|                 0.0|     0.0|                 0.0|                 0.0|                 0.0|                0.0|                 0.0|                 0.0|                0.0|     0.0|        0.0|                 0.0|                 0.0|        0.0|  0.0|                 0.0|                0.0|                0.0|          0.0|                 0.0|                 0.0|                0.0|                0.0|                 0.0|0.054730709435824317|    0.0|           0.0|                0.0|                0.0|                 0.0|                 0.0|                 0.0|                0.0|                0.0|   0.0|                0.0|          0.0| 0.0|                0.0|                0.0|               0.0|       0.0|                0.0|0.054730709435824317|                 0.0|                 0.0|     0.0|                0.0|              0.0|                 0.0|                0.0|\n",
      "|    13|              0.0|0.14832815455795867|    0.0|                 0.0|                0.0|                0.0|                0.0|                0.0|                0.0|                 0.0|  0.0|                0.0|                 0.0|                0.0|                 0.0|                0.0|                0.0|                0.0|                0.0|      0.0|                 0.0|                0.0|                0.0|                0.0|                 0.0|     0.0|0.14832815455795867|                0.0|                 0.0|                 0.0|                0.0|                 0.0|                 0.0|             0.0|                0.0|                 0.0|                 0.0|                0.0|                0.0|                 0.0|                0.0|                0.0|   0.0|                0.0|      0.0|                0.0|                0.0|                 0.0|       0.0|                 0.0|     0.0|                 0.0|                 0.0|                 0.0|                0.0|                 0.0|                 0.0|                0.0|     0.0|        0.0|                 0.0|                 0.0|        0.0|  0.0|                 0.0|0.14832815455795867|                0.0|          0.0|                 0.0|                 0.0|                0.0|                0.0|                 0.0|                 0.0|    0.0|           0.0|                0.0|                0.0|                 0.0|                 0.0|                 0.0|                0.0|                0.0|   0.0|                0.0|          0.0| 0.0|                0.0|                0.0|               0.0|       0.0|                0.0|                 0.0|                 0.0|                 0.0|     0.0|                0.0|              0.0|                 0.0|                0.0|\n",
      "|    14|              0.0|                0.0|    0.0|                 0.0|                0.0|                0.0|                0.0|                0.0|                0.0|                 0.0|  0.0|                0.0|                 0.0|                0.0|                 0.0|                0.0|                0.0|                0.0|                0.0|      0.0|                 0.0|                0.0|                0.0|                0.0|                 0.0|     0.0|                0.0|                0.0|                 0.0|                 0.0|                0.0|                 0.0|                 0.0|             0.0|                0.0|                 0.0|                 0.0|                0.0|                0.0|                 0.0|                0.0|                0.0|   0.0|                0.0|      0.0|                0.0|                0.0|                 0.0|       0.0|                 0.0|     0.0|                 0.0|                 0.0|                 0.0|                0.0|                 0.0|                 0.0|                0.0|     0.0|        0.0|                 0.0|                 0.0|        0.0|  0.0|                 0.0|                0.0|                0.0|          0.0|                 0.0|                 0.0|                0.0|                0.0|                 0.0|                 0.0|    0.0|           0.0|                0.0|                0.0|                 0.0|                 0.0|                 0.0|                0.0|                0.0|   0.0|                0.0|          0.0| 0.0|0.24368196820236065|                0.0|               0.0|       0.0|                0.0|                 0.0|                 0.0|                 0.0|     0.0|                0.0|              0.0|                 0.0|                0.0|\n",
      "|    16|              0.0|                0.0|    0.0|                 0.0|                0.0|                0.0|                0.0|                0.0|                0.0|                 0.0|  0.0|                0.0|                 0.0|                0.0|                 0.0|                0.0|                0.0|                0.0|                0.0|      0.0|                 0.0|                0.0|                0.0|                0.0|                 0.0|     0.0|                0.0|                0.0|                 0.0|                 0.0|                0.0|                 0.0|                 0.0|             0.0|                0.0|                 0.0|                 0.0|                0.0|                0.0|                 0.0|                0.0|0.15275586066416638|   0.0|                0.0|      0.0|                0.0|                0.0|                 0.0|       0.0|                 0.0|     0.0|                 0.0|                 0.0|                 0.0|                0.0|                 0.0|                 0.0|                0.0|     0.0|        0.0|                 0.0|                 0.0|        0.0|  0.0|                 0.0|                0.0|                0.0|          0.0|                 0.0|                 0.0|                0.0|                0.0|                 0.0|                 0.0|    0.0|           0.0|                0.0|                0.0|                 0.0|                 0.0|                 0.0|                0.0|                0.0|   0.0|                0.0|          0.0| 0.0|                0.0|                0.0|               0.0|       0.0|                0.0|                 0.0|                 0.0|                 0.0|     0.0|                0.0|              0.0|                 0.0|                0.0|\n",
      "|    18|              0.0|                0.0|    0.0|                 0.0|                0.0|                0.0|                0.0|                0.0|                0.0|                 0.0|  0.0|                0.0|                 0.0|                0.0|                 0.0|                0.0|                0.0|                0.0|                0.0|      0.0|                 0.0|                0.0|                0.0|                0.0|                 0.0|     0.0|                0.0|                0.0|                 0.0|                 0.0|                0.0|                 0.0|                 0.0|             0.0|                0.0|                 0.0|                 0.0|                0.0|                0.0|                 0.0|                0.0|                0.0|   0.0|                0.0|      0.0|                0.0|                0.0|                 0.0|       0.0|                 0.0|     0.0|                 0.0|                 0.0|                 0.0|                0.0|                 0.0|                 0.0|                0.0|     0.0|        0.0|                 0.0|                 0.0|        0.0|  0.0|                 0.0|                0.0|                0.0|          0.0|                 0.0|                 0.0|                0.0|                0.0|                 0.0|                 0.0|    0.0|           0.0|                0.0|                0.0|                 0.0|                 0.0|                 0.0|                0.0|                0.0|   0.0|                0.0|          0.0| 0.0|                0.0|                0.0|0.3198325832655984|       0.0|                0.0|                 0.0|                 0.0|                 0.0|     0.0|                0.0|              0.0|                 0.0|                0.0|\n"
     ]
    },
    {
     "name": "stdout",
     "output_type": "stream",
     "text": [
      "|    19|              0.0|                0.0|    0.0|                 0.0|                0.0|                0.0|                0.0|                0.0|                0.0|                 0.0|  0.0|                0.0|0.018507491255875492|                0.0|                 0.0|                0.0|                0.0|                0.0|                0.0|      0.0|                 0.0|                0.0|                0.0|                0.0|                 0.0|     0.0|                0.0|                0.0|                 0.0|0.018507491255875492|                0.0|                 0.0|                 0.0|             0.0|                0.0|                 0.0|0.018507491255875492|                0.0|                0.0|                 0.0|                0.0|                0.0|   0.0|                0.0|      0.0|                0.0|                0.0|                 0.0|       0.0|                 0.0|     0.0|                 0.0|                 0.0|0.018507491255875492|                0.0|                 0.0|0.018507491255875492|                0.0|     0.0|        0.0|                 0.0|0.018507491255875492|        0.0|  0.0|                 0.0|                0.0|                0.0|          0.0|                 0.0|0.018507491255875492|                0.0|                0.0|                 0.0|                 0.0|    0.0|           0.0|                0.0|                0.0|                 0.0|0.018507491255875492|0.018507491255875492|                0.0|                0.0|   0.0|                0.0|          0.0| 0.0|                0.0|                0.0|               0.0|       0.0|                0.0|                 0.0|                 0.0|                 0.0|     0.0|                0.0|              0.0|0.018507491255875492|                0.0|\n",
      "|    20|              0.0|                0.0|    0.0|                 0.0|                0.0|                0.0|                0.0|                0.0|                0.0|0.057176774662006415|  0.0|                0.0|                 0.0|                0.0|                 0.0|                0.0|                0.0|                0.0|                0.0|      0.0|                 0.0|                0.0|                0.0|                0.0|                 0.0|     0.0|                0.0|                0.0|                 0.0|                 0.0|                0.0|                 0.0|                 0.0|             0.0|                0.0|                 0.0|                 0.0|                0.0|                0.0|                 0.0|                0.0|                0.0|   0.0|                0.0|      0.0|                0.0|                0.0|                 0.0|       0.0|0.057176774662006415|     0.0|0.057176774662006415|                 0.0|                 0.0|                0.0|                 0.0|                 0.0|                0.0|     0.0|        0.0|                 0.0|                 0.0|        0.0|  0.0|                 0.0|                0.0|                0.0|          0.0|                 0.0|                 0.0|                0.0|                0.0|                 0.0|                 0.0|    0.0|           0.0|                0.0|                0.0|                 0.0|                 0.0|                 0.0|                0.0|                0.0|   0.0|                0.0|          0.0| 0.0|                0.0|                0.0|               0.0|       0.0|                0.0|                 0.0|                 0.0|                 0.0|     0.0|                0.0|              0.0|                 0.0|                0.0|\n",
      "|    21|              0.0|                0.0|    0.0|                 0.0|                0.0|                0.0|                0.0|                0.0|                0.0|                 0.0|  0.0|                0.0|                 0.0|0.20067926793135585|                 0.0|                0.0|                0.0|                0.0|                0.0|      0.0|                 0.0|0.20067926793135585|                0.0|                0.0|                 0.0|     0.0|                0.0|                0.0|                 0.0|                 0.0|                0.0|                 0.0|                 0.0|             0.0|                0.0|                 0.0|                 0.0|                0.0|                0.0|                 0.0|0.20067926793135585|                0.0|   0.0|                0.0|      0.0|                0.0|                0.0|                 0.0|       0.0|                 0.0|     0.0|                 0.0|                 0.0|                 0.0|                0.0|                 0.0|                 0.0|                0.0|     0.0|        0.0|                 0.0|                 0.0|        0.0|  0.0|                 0.0|                0.0|0.20067926793135585|          0.0|                 0.0|                 0.0|                0.0|                0.0|                 0.0|                 0.0|    0.0|           0.0|                0.0|                0.0|                 0.0|                 0.0|                 0.0|                0.0|                0.0|   0.0|0.20067926793135585|          0.0| 0.0|                0.0|                0.0|               0.0|       0.0|                0.0|                 0.0|                 0.0|                 0.0|     0.0|                0.0|              0.0|                 0.0|                0.0|\n",
      "|    22|              0.0|                0.0|    0.0|                 0.0|                0.0|                0.0|0.10887917728190583|                0.0|                0.0|                 0.0|  0.0|                0.0|                 0.0|                0.0|                 0.0|                0.0|                0.0|                0.0|                0.0|      0.0|                 0.0|                0.0|                0.0|                0.0|                 0.0|     0.0|                0.0|                0.0|                 0.0|                 0.0|                0.0|                 0.0|                 0.0|             0.0|                0.0|                 0.0|                 0.0|                0.0|                0.0|                 0.0|                0.0|                0.0|   0.0|                0.0|      0.0|                0.0|                0.0|                 0.0|       0.0|                 0.0|     0.0|                 0.0|                 0.0|                 0.0|0.10887917728190583|                 0.0|                 0.0|                0.0|     0.0|        0.0|                 0.0|                 0.0|        0.0|  0.0|                 0.0|                0.0|                0.0|          0.0|                 0.0|                 0.0|                0.0|                0.0|                 0.0|                 0.0|    0.0|           0.0|                0.0|                0.0|                 0.0|                 0.0|                 0.0|                0.0|                0.0|   0.0|                0.0|          0.0| 0.0|                0.0|                0.0|               0.0|       0.0|                0.0|                 0.0|                 0.0|                 0.0|     0.0|                0.0|              0.0|                 0.0|                0.0|\n"
     ]
    },
    {
     "name": "stdout",
     "output_type": "stream",
     "text": [
      "|    23|              0.0|                0.0|    0.0|                 0.0|                0.0|                0.0|                0.0|                0.0|                0.0|                 0.0|  0.0|                0.0|                 0.0|                0.0|                 0.0|                0.0|                0.0|                0.0|                0.0|      0.0|                 0.0|                0.0|                0.0|                0.0|                 0.0|     0.0|                0.0|                0.0|                 0.0|                 0.0|                0.0|                 0.0|                 0.0|             0.0|                0.0|                 0.0|                 0.0|                0.0|                0.0|                 0.0|                0.0|                0.0|   0.0|                0.0|      0.0|                0.0|                0.0|                 0.0|       0.0|                 0.0|     0.0|                 0.0|                 0.0|                 0.0|                0.0|                 0.0|                 0.0|                0.0|     0.0|        0.0|                 0.0|                 0.0|        0.0|  0.0|                 0.0|                0.0|                0.0|          0.0|                 0.0|                 0.0|0.08253744084273507|0.08253744084273507|                 0.0|                 0.0|    0.0|           0.0|                0.0|                0.0|                 0.0|                 0.0|                 0.0|                0.0|                0.0|   0.0|                0.0|          0.0| 0.0|                0.0|                0.0|               0.0|       0.0|                0.0|                 0.0|                 0.0|                 0.0|     0.0|                0.0|              0.0|                 0.0|                0.0|\n",
      "|    25|              0.0|                0.0|    0.0|                 0.0|                0.0|                0.0|                0.0|                0.0|                0.0|                 0.0|  0.0|                0.0|                 0.0|                0.0|                 0.0|                0.0|                0.0|                0.0|                0.0|      0.0|                 0.0|                0.0|                0.0|                0.0|                 0.0|     0.0|                0.0|                0.0|0.039063521620225757|                 0.0|                0.0|                 0.0|                 0.0|             0.0|                0.0|                 0.0|                 0.0|                0.0|                0.0|                 0.0|                0.0|                0.0|   0.0|                0.0|      0.0|                0.0|                0.0|                 0.0|       0.0|                 0.0|     0.0|                 0.0|                 0.0|                 0.0|                0.0|                 0.0|                 0.0|                0.0|     0.0|        0.0|                 0.0|                 0.0|        0.0|  0.0|                 0.0|                0.0|                0.0|          0.0|0.039063521620225757|                 0.0|                0.0|                0.0|                 0.0|                 0.0|    0.0|           0.0|                0.0|                0.0|                 0.0|                 0.0|                 0.0|                0.0|                0.0|   0.0|                0.0|          0.0| 0.0|                0.0|                0.0|               0.0|       0.0|                0.0|                 0.0|                 0.0|                 0.0|     0.0|                0.0|              0.0|                 0.0|                0.0|\n",
      "|    26|              0.0|                0.0|    0.0|                 0.0|                0.0|                0.0|                0.0|                0.0|0.02842956295694208|                 0.0|  0.0|                0.0|                 0.0|                0.0|                 0.0|                0.0|                0.0|                0.0|0.02842956295694208|      0.0|                 0.0|                0.0|                0.0|                0.0|                 0.0|     0.0|                0.0|                0.0|                 0.0|                 0.0|                0.0|                 0.0|                 0.0|             0.0|                0.0|                 0.0|                 0.0|                0.0|                0.0|                 0.0|                0.0|                0.0|   0.0|                0.0|      0.0|0.02842956295694208|0.02842956295694208|                 0.0|       0.0|                 0.0|     0.0|                 0.0|                 0.0|                 0.0|                0.0|                 0.0|                 0.0|                0.0|     0.0|        0.0|                 0.0|                 0.0|        0.0|  0.0|                 0.0|                0.0|                0.0|          0.0|                 0.0|                 0.0|                0.0|                0.0|                 0.0|                 0.0|    0.0|           0.0|                0.0|0.02842956295694208|                 0.0|                 0.0|                 0.0|0.02842956295694208|                0.0|   0.0|                0.0|          0.0| 0.0|                0.0|                0.0|               0.0|       0.0|0.02842956295694208|                 0.0|                 0.0|                 0.0|     0.0|0.02842956295694208|              0.0|                 0.0|                0.0|\n",
      "|    27|              0.0|                0.0|    0.0|                 0.0|                0.0|                0.0|                0.0|                0.0|                0.0|                 0.0|  0.0|                0.0|                 0.0|                0.0|                 0.0|0.04300270027100482|                0.0|                0.0|                0.0|      0.0|                 0.0|                0.0|                0.0|0.04300270027100482|                 0.0|     0.0|                0.0|                0.0|                 0.0|                 0.0|                0.0|                 0.0|                 0.0|             0.0|0.04300270027100482|                 0.0|                 0.0|                0.0|                0.0|                 0.0|                0.0|                0.0|   0.0|                0.0|      0.0|                0.0|                0.0|                 0.0|       0.0|                 0.0|     0.0|                 0.0|                 0.0|                 0.0|                0.0|                 0.0|                 0.0|0.04300270027100482|     0.0|        0.0|                 0.0|                 0.0|        0.0|  0.0|                 0.0|                0.0|                0.0|          0.0|                 0.0|                 0.0|                0.0|                0.0|                 0.0|                 0.0|    0.0|           0.0|                0.0|                0.0|                 0.0|                 0.0|                 0.0|                0.0|                0.0|   0.0|                0.0|          0.0| 0.0|                0.0|                0.0|               0.0|       0.0|                0.0|                 0.0|                 0.0|                 0.0|     0.0|                0.0|              0.0|                 0.0|0.04300270027100482|\n"
     ]
    },
    {
     "name": "stdout",
     "output_type": "stream",
     "text": [
      "|    28|              0.0|                0.0|    0.0|                 0.0|                0.0|                0.0|                0.0|                0.0|                0.0|                 0.0|  0.0|                0.0|                 0.0|                0.0|                 0.0|                0.0|0.23260551510225339|                0.0|                0.0|      0.0|                 0.0|                0.0|                0.0|                0.0|                 0.0|     0.0|                0.0|0.23260551510225339|                 0.0|                 0.0|                0.0|                 0.0|                 0.0|             0.0|                0.0|                 0.0|                 0.0|                0.0|                0.0|                 0.0|                0.0|                0.0|   0.0|                0.0|      0.0|                0.0|                0.0|                 0.0|       0.0|                 0.0|     0.0|                 0.0|                 0.0|                 0.0|                0.0|                 0.0|                 0.0|                0.0|     0.0|        0.0|                 0.0|                 0.0|        0.0|  0.0|                 0.0|                0.0|                0.0|          0.0|                 0.0|                 0.0|                0.0|                0.0|                 0.0|                 0.0|    0.0|           0.0|                0.0|                0.0|                 0.0|                 0.0|                 0.0|                0.0|0.23260551510225339|   0.0|                0.0|          0.0| 0.0|                0.0|                0.0|               0.0|       0.0|                0.0|                 0.0|                 0.0|                 0.0|     0.0|                0.0|              0.0|                 0.0|                0.0|\n",
      "+------+-----------------+-------------------+-------+--------------------+-------------------+-------------------+-------------------+-------------------+-------------------+--------------------+-----+-------------------+--------------------+-------------------+--------------------+-------------------+-------------------+-------------------+-------------------+---------+--------------------+-------------------+-------------------+-------------------+--------------------+--------+-------------------+-------------------+--------------------+--------------------+-------------------+--------------------+--------------------+----------------+-------------------+--------------------+--------------------+-------------------+-------------------+--------------------+-------------------+-------------------+------+-------------------+---------+-------------------+-------------------+--------------------+----------+--------------------+--------+--------------------+--------------------+--------------------+-------------------+--------------------+--------------------+-------------------+--------+-----------+--------------------+--------------------+-----------+-----+--------------------+-------------------+-------------------+-------------+--------------------+--------------------+-------------------+-------------------+--------------------+--------------------+-------+--------------+-------------------+-------------------+--------------------+--------------------+--------------------+-------------------+-------------------+------+-------------------+-------------+----+-------------------+-------------------+------------------+----------+-------------------+--------------------+--------------------+--------------------+--------+-------------------+-----------------+--------------------+-------------------+\n",
      "only showing top 20 rows\n",
      "\n"
     ]
    }
   ],
   "source": [
    "pivotedTfIdf.show()"
   ]
  },
  {
   "cell_type": "code",
   "execution_count": 19,
   "id": "481f6e5e",
   "metadata": {},
   "outputs": [
    {
     "data": {
      "text/plain": [
       "\u001b[36mres18\u001b[39m: \u001b[32mInt\u001b[39m = \u001b[32m101\u001b[39m"
      ]
     },
     "execution_count": 19,
     "metadata": {},
     "output_type": "execute_result"
    }
   ],
   "source": [
    "pivotedTfIdf.columns.length"
   ]
  }
 ],
 "metadata": {
  "kernelspec": {
   "display_name": "Scala",
   "language": "scala",
   "name": "scala"
  },
  "language_info": {
   "codemirror_mode": "text/x-scala",
   "file_extension": ".scala",
   "mimetype": "text/x-scala",
   "name": "scala",
   "nbconvert_exporter": "script",
   "version": "2.12.11"
  }
 },
 "nbformat": 4,
 "nbformat_minor": 5
}
